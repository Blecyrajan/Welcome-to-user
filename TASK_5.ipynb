{
  "nbformat": 4,
  "nbformat_minor": 0,
  "metadata": {
    "colab": {
      "name": "TASK 5.ipynb",
      "provenance": [],
      "include_colab_link": true
    },
    "kernelspec": {
      "name": "python3",
      "display_name": "Python 3"
    },
    "language_info": {
      "name": "python"
    }
  },
  "cells": [
    {
      "cell_type": "markdown",
      "metadata": {
        "id": "view-in-github",
        "colab_type": "text"
      },
      "source": [
        "<a href=\"https://colab.research.google.com/github/Blecyrajan/Welcome-to-user/blob/main/TASK_5.ipynb\" target=\"_parent\"><img src=\"https://colab.research.google.com/assets/colab-badge.svg\" alt=\"Open In Colab\"/></a>"
      ]
    },
    {
      "cell_type": "markdown",
      "metadata": {
        "id": "Gu_sxK-id8Zw"
      },
      "source": [
        "1.Given a list l=[23, 45, 25 ,78, 90, 45, 22, 56, 99, 12, 9, 75, 32]\n",
        "\n",
        "Write a single line program to display.\n",
        "\n",
        "a) elements at even index in the list.\n",
        "\n",
        "b) remove the 3 middle elements (45, 22 and 56)"
      ]
    },
    {
      "cell_type": "code",
      "metadata": {
        "id": "hiAZt40tgbu8",
        "colab": {
          "base_uri": "https://localhost:8080/"
        },
        "outputId": "aa89d4e4-5598-49d3-bc1c-38cf8b3c8a5c"
      },
      "source": [
        "#please write the code below this line\n",
        "l=[23,45,25,78,90,45,22,56,99,12,9,75,32]\n",
        "print(l[::2])"
      ],
      "execution_count": null,
      "outputs": [
        {
          "output_type": "stream",
          "text": [
            "[23, 25, 90, 22, 99, 9, 32]\n"
          ],
          "name": "stdout"
        }
      ]
    },
    {
      "cell_type": "code",
      "metadata": {
        "id": "alqbFWHYPW37",
        "colab": {
          "base_uri": "https://localhost:8080/"
        },
        "outputId": "dcee3ecc-7549-4f66-e728-63815dd92117"
      },
      "source": [
        "l=[23,45,25,78,90,45,22,56,99,12,9,75,32]\n",
        "del l[5:8]\n",
        "print(l)"
      ],
      "execution_count": null,
      "outputs": [
        {
          "output_type": "stream",
          "text": [
            "[23, 45, 25, 78, 90, 99, 12, 9, 75, 32]\n"
          ],
          "name": "stdout"
        }
      ]
    },
    {
      "cell_type": "markdown",
      "metadata": {
        "id": "EyjCDxcygv2C"
      },
      "source": [
        "2.Given a list lowerCase=['a', 'e', 'i', 'o', 'u']\n",
        "Create a new list upperCase using list comprehension and copy the content of the lowerCase list, but in uppercase (capital letters). (upperCase should be ['A', 'E', 'I', 'O', 'U'])"
      ]
    },
    {
      "cell_type": "code",
      "metadata": {
        "id": "-HhhWi7jhGIj",
        "colab": {
          "base_uri": "https://localhost:8080/"
        },
        "outputId": "b036fc87-2f8e-4f7f-f5c5-5c57c0fe11bc"
      },
      "source": [
        "#please write the code below this line\n",
        "lowerCase = ['a','e','i','o','u']\n",
        "\n",
        "upperCase = lowerCase.copy()\n",
        "\n",
        "upperCase[0]= \"A\"\n",
        "upperCase[1]=\"E\"\n",
        "upperCase[2]=\"I\"\n",
        "upperCase[3]=\"O\"\n",
        "upperCase[4]=\"U\"\n",
        "\n",
        "print(upperCase)\n",
        "\n"
      ],
      "execution_count": null,
      "outputs": [
        {
          "output_type": "stream",
          "text": [
            "['A', 'E', 'I', 'O', 'U']\n"
          ],
          "name": "stdout"
        }
      ]
    },
    {
      "cell_type": "markdown",
      "metadata": {
        "id": "YkTzwuJphPxV"
      },
      "source": [
        "3.Given a tuple fruits = (\"banana\", \"cherry\", \"apple\", \"grapes\")\n",
        "Create 3 variables yellow, red and green and assign them with fruits of their respective color.\n",
        "(yellow=\"banana\", red=[\"cherry\", \"apple\"], green=\"grapes (hint- Use unpacking)"
      ]
    },
    {
      "cell_type": "code",
      "metadata": {
        "id": "FxpvDxTVoHWZ",
        "outputId": "3391d9ce-8326-4f58-d365-5d6089a440d0",
        "colab": {
          "base_uri": "https://localhost:8080/"
        }
      },
      "source": [
        "fruits = (\"banana\",\"cherry\",\"apple\",\"grapes\")\n",
        "\n",
        "(yellow, *red, green) = fruits\n",
        "\n",
        "print(yellow)\n",
        "print(red)\n",
        "print(green)\n"
      ],
      "execution_count": 39,
      "outputs": [
        {
          "output_type": "stream",
          "text": [
            "banana\n",
            "['cherry', 'apple']\n",
            "grapes\n"
          ],
          "name": "stdout"
        }
      ]
    }
  ]
}