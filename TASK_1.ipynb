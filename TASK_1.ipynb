{
  "nbformat": 4,
  "nbformat_minor": 0,
  "metadata": {
    "colab": {
      "name": "TASK 1",
      "provenance": [],
      "include_colab_link": true
    },
    "kernelspec": {
      "name": "python3",
      "display_name": "Python 3"
    },
    "language_info": {
      "name": "python"
    }
  },
  "cells": [
    {
      "cell_type": "markdown",
      "metadata": {
        "id": "view-in-github",
        "colab_type": "text"
      },
      "source": [
        "<a href=\"https://colab.research.google.com/github/Blecyrajan/Welcome-to-user/blob/main/TASK_1.ipynb\" target=\"_parent\"><img src=\"https://colab.research.google.com/assets/colab-badge.svg\" alt=\"Open In Colab\"/></a>"
      ]
    },
    {
      "cell_type": "markdown",
      "metadata": {
        "id": "q-yWxfWESiQo"
      },
      "source": [
        "1.Write a program that uses input to prompt a user for their name and then welcomes them."
      ]
    },
    {
      "cell_type": "code",
      "metadata": {
        "id": "9ikpRxqMSxu0",
        "outputId": "b82aeec3-0f52-472e-99c4-6a4d29303790",
        "colab": {
          "base_uri": "https://localhost:8080/"
        }
      },
      "source": [
        "#please provide your answer here below this linE\n",
        "name = input(\"Enter your name:\")\n",
        "print(\"Welcome\",name+\"!\")\n"
      ],
      "execution_count": 1,
      "outputs": [
        {
          "output_type": "stream",
          "text": [
            "Enter your name: Blecy\n",
            "Welcome  Blecy!\n"
          ],
          "name": "stdout"
        }
      ]
    },
    {
      "cell_type": "markdown",
      "metadata": {
        "id": "Ay5OdxguS-2Z"
      },
      "source": [
        "2.Write a program which prompts the user for a Celsius temperature, convert the temperature to Fahrenheit, and print out the converted temperature."
      ]
    },
    {
      "cell_type": "code",
      "metadata": {
        "id": "MMv2yWNtTgEu",
        "outputId": "67256950-bce8-491b-8d59-f02002b4f2fb",
        "colab": {
          "base_uri": "https://localhost:8080/"
        }
      },
      "source": [
        "#please provide your answer here below this line\n",
        "celsius = float(input(\"Enter temperature in degree celsius:\"))\n",
        "#calculate temperature in fehrenheit\n",
        "fahrenheit = (celsius*1.8)+32\n",
        "print('Equivalent fahrenheit temperature is %0.1f degree fahrenheit'%(fahrenheit))\n"
      ],
      "execution_count": 2,
      "outputs": [
        {
          "output_type": "stream",
          "text": [
            "Enter temperature in degree celsius: 36\n",
            "Equivalent fahrenheit temperature is 96.8 degree fahrenheit\n"
          ],
          "name": "stdout"
        }
      ]
    },
    {
      "cell_type": "markdown",
      "metadata": {
        "id": "v6O1a198TpNd"
      },
      "source": [
        "3.Write a Python program to convert degree to radian."
      ]
    },
    {
      "cell_type": "code",
      "metadata": {
        "id": "27Jj4_D0UQBA",
        "outputId": "85080335-f04f-4754-a3ef-8da5fc7338c1",
        "colab": {
          "base_uri": "https://localhost:8080/"
        }
      },
      "source": [
        "#please provide your answer here below this line\n",
        "pi = 22/7\n",
        "degree = float(input(\"Input degrees: \"))\n",
        "radian = degree*(pi/180)\n",
        "print(radian)\n"
      ],
      "execution_count": 3,
      "outputs": [
        {
          "output_type": "stream",
          "text": [
            "Input degrees:  180\n",
            "3.142857142857143\n"
          ],
          "name": "stdout"
        }
      ]
    }
  ]
}