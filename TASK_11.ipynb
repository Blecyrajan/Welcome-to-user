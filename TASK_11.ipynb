{
  "nbformat": 4,
  "nbformat_minor": 0,
  "metadata": {
    "colab": {
      "name": "TASK 11.ipynb",
      "provenance": [],
      "include_colab_link": true
    },
    "kernelspec": {
      "name": "python3",
      "display_name": "Python 3"
    },
    "language_info": {
      "name": "python"
    }
  },
  "cells": [
    {
      "cell_type": "markdown",
      "metadata": {
        "id": "view-in-github",
        "colab_type": "text"
      },
      "source": [
        "<a href=\"https://colab.research.google.com/github/Blecyrajan/Welcome-to-user/blob/main/TASK_11.ipynb\" target=\"_parent\"><img src=\"https://colab.research.google.com/assets/colab-badge.svg\" alt=\"Open In Colab\"/></a>"
      ]
    },
    {
      "cell_type": "markdown",
      "metadata": {
        "id": "Ud2gZIbu6E59"
      },
      "source": [
        "N.B: Please find the answers by applying the functions on the matrices"
      ]
    },
    {
      "cell_type": "markdown",
      "metadata": {
        "id": "_9JX1Vdn4sTN"
      },
      "source": [
        "1. Create 2 3×3 matrix with 0-8 and 10-19 as elements in each and perform the vectorize multiplication operations on the matrices.(Outer product, Dot product, Element wise product)."
      ]
    },
    {
      "cell_type": "code",
      "metadata": {
        "id": "aBzAn6Z75VQ6",
        "outputId": "35a23b3f-e8fb-43c8-e422-fcc2e1949d76",
        "colab": {
          "base_uri": "https://localhost:8080/"
        }
      },
      "source": [
        "#please type your answer below this line.\n",
        "import numpy as np\n",
        "A = np.array([[0,1,2],[4,5,6],[7,8,9]])\n",
        "B = np.array([[10,11,12],[13,14,15],[16,17,18]])\n",
        "print(\"Matrices:\")\n",
        "print(\"A =\",A)\n",
        "print(\"B =\",B) \n",
        "print(\"Outer product of matrices A and B = \")\n",
        "print(np.outer(A,B)) \n",
        "print(\"Dot product =\\n \",np.dot(A,B))\n",
        "print(\"Element wise product =\\n \",np.multiply(A,B))\n",
        "\n"
      ],
      "execution_count": 9,
      "outputs": [
        {
          "output_type": "stream",
          "name": "stdout",
          "text": [
            "Matrices:\n",
            "A = [[0 1 2]\n",
            " [4 5 6]\n",
            " [7 8 9]]\n",
            "B = [[10 11 12]\n",
            " [13 14 15]\n",
            " [16 17 18]]\n",
            "Outer product of matrices A and B = \n",
            "[[  0   0   0   0   0   0   0   0   0]\n",
            " [ 10  11  12  13  14  15  16  17  18]\n",
            " [ 20  22  24  26  28  30  32  34  36]\n",
            " [ 40  44  48  52  56  60  64  68  72]\n",
            " [ 50  55  60  65  70  75  80  85  90]\n",
            " [ 60  66  72  78  84  90  96 102 108]\n",
            " [ 70  77  84  91  98 105 112 119 126]\n",
            " [ 80  88  96 104 112 120 128 136 144]\n",
            " [ 90  99 108 117 126 135 144 153 162]]\n",
            "Dot product =\n",
            "  [[ 45  48  51]\n",
            " [201 216 231]\n",
            " [318 342 366]]\n",
            "Element wise product =\n",
            "  [[  0  11  24]\n",
            " [ 52  70  90]\n",
            " [112 136 162]]\n"
          ]
        }
      ]
    },
    {
      "cell_type": "markdown",
      "metadata": {
        "id": "gJGtIjx25k92"
      },
      "source": [
        "2. Create a 4×4 matrix with 0-16  as elements in it. Add a scalar 4 to the matrix and also multiply it with [1,2,3,4] 1-D matrix by broadcasting. ( Please note to do both the addition and multiplication by broadcasting.)"
      ]
    },
    {
      "cell_type": "code",
      "metadata": {
        "id": "H7cznh8M56r-"
      },
      "source": [
        "#please type your answer below this line.\n"
      ],
      "execution_count": null,
      "outputs": []
    }
  ]
}