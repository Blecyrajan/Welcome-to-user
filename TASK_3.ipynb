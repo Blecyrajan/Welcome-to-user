{
  "nbformat": 4,
  "nbformat_minor": 0,
  "metadata": {
    "colab": {
      "name": "TASK 3.ipynb",
      "provenance": [],
      "include_colab_link": true
    },
    "kernelspec": {
      "name": "python3",
      "display_name": "Python 3"
    },
    "language_info": {
      "name": "python"
    }
  },
  "cells": [
    {
      "cell_type": "markdown",
      "metadata": {
        "id": "view-in-github",
        "colab_type": "text"
      },
      "source": [
        "<a href=\"https://colab.research.google.com/github/Blecyrajan/Welcome-to-user/blob/main/TASK_3.ipynb\" target=\"_parent\"><img src=\"https://colab.research.google.com/assets/colab-badge.svg\" alt=\"Open In Colab\"/></a>"
      ]
    },
    {
      "cell_type": "markdown",
      "metadata": {
        "id": "z20IIB0eUQMN"
      },
      "source": [
        "1 - Write a program which takes a number as input from the user and check whether the number is odd or even.If odd print the number is odd if not print it is even."
      ]
    },
    {
      "cell_type": "code",
      "metadata": {
        "id": "dVgGJ-wTVRit",
        "outputId": "55f43fdb-b2f1-409e-d9b3-a29f24527f11",
        "colab": {
          "base_uri": "https://localhost:8080/"
        }
      },
      "source": [
        "#please enter your answer below this line\n",
        "num = int(input(\"Enter a number: \"))\n",
        "mod = num%2\n",
        "if mod > 0:\n",
        "  print(\"The number is odd\")\n",
        "else:\n",
        "  print(\"The number is even\")\n"
      ],
      "execution_count": 1,
      "outputs": [
        {
          "output_type": "stream",
          "text": [
            "Enter a number:  34\n",
            "The number is even\n"
          ],
          "name": "stdout"
        }
      ]
    },
    {
      "cell_type": "markdown",
      "metadata": {
        "id": "7778XD8PVblj"
      },
      "source": [
        "2 -Write a program to find the largest among three numbers and print the largest number."
      ]
    },
    {
      "cell_type": "code",
      "metadata": {
        "id": "m0tUOkOFWR-d",
        "colab": {
          "base_uri": "https://localhost:8080/"
        },
        "outputId": "1637849e-726b-4f5f-b7cb-7718cbcbb963"
      },
      "source": [
        "#please enter your answer below this line\n",
        "num1 = 6\n",
        "num2 = 5\n",
        "num3 = 7\n",
        "if(num1 > num2)and (num1 > num3):\n",
        "  largest = num1\n",
        "elif(num2 > num1)and (num2 > num3):\n",
        "  largest = num2\n",
        "else:\n",
        "  largest = num3\n",
        "print(\"The largest number is\", largest)    \n"
      ],
      "execution_count": 5,
      "outputs": [
        {
          "output_type": "stream",
          "text": [
            "The largest number is 7\n"
          ],
          "name": "stdout"
        }
      ]
    },
    {
      "cell_type": "markdown",
      "metadata": {
        "id": "Jg2Ns4OQWaJy"
      },
      "source": [
        "3 -Write a function to prompt for a score between 0.0 and 1.0.\n",
        "\n",
        "    If the score is out of range, print an error.\n",
        "    If the score is between 0.0 and 1.0, print a grade using the following table:\n",
        "    Score Grade\n",
        "             Score\tGrade\n",
        "            >= 0.9\tA\n",
        "            >= 0.8\tB\n",
        "            >= 0.7\tC\n",
        "            >= 0.6\tD\n",
        "             < 0.6\tF\n",
        "If the user enters a value out of range, print a suitable error message and exit. For the test, enter a score of 0.85."
      ]
    },
    {
      "cell_type": "markdown",
      "metadata": {
        "id": "-o0scDq7WkVT"
      },
      "source": [
        ""
      ]
    },
    {
      "cell_type": "code",
      "metadata": {
        "colab": {
          "base_uri": "https://localhost:8080/"
        },
        "id": "FaI-L2DG4fzG",
        "outputId": "3cb7a220-e809-4043-c7f4-de2dfd8c1467"
      },
      "source": [
        "score = input(\"Enter score: \")\n",
        "score = float(score)\n",
        "if score >= 0.9 and score <= 1.0:\n",
        "  print(\"Grade A\")\n",
        "elif score >= 0.8 and score <0.9:\n",
        "  print(\"Grade B\")\n",
        "elif score >= 0.7 and score < 0.8:\n",
        "  print(\"Grade C\")\n",
        "elif score >= 0.6 and score < 0.7:\n",
        "  print(\"Grade D\")\n",
        "elif score < 0.6 and score >= 0.0:\n",
        "  print(\"Grade F\")  \n",
        "else:\n",
        "  print(score, \"is out of range\" )\n",
        "     \n"
      ],
      "execution_count": 66,
      "outputs": [
        {
          "output_type": "stream",
          "text": [
            "Enter score:  0.85\n",
            "Grade B\n"
          ],
          "name": "stdout"
        }
      ]
    }
  ]
}