{
  "nbformat": 4,
  "nbformat_minor": 0,
  "metadata": {
    "colab": {
      "name": "TASK 8.ipynb",
      "provenance": [],
      "include_colab_link": true
    },
    "kernelspec": {
      "name": "python3",
      "display_name": "Python 3"
    },
    "language_info": {
      "name": "python"
    }
  },
  "cells": [
    {
      "cell_type": "markdown",
      "metadata": {
        "id": "view-in-github",
        "colab_type": "text"
      },
      "source": [
        "<a href=\"https://colab.research.google.com/github/Blecyrajan/Welcome-to-user/blob/main/TASK_8.ipynb\" target=\"_parent\"><img src=\"https://colab.research.google.com/assets/colab-badge.svg\" alt=\"Open In Colab\"/></a>"
      ]
    },
    {
      "cell_type": "markdown",
      "metadata": {
        "id": "slsGswYbJSo7"
      },
      "source": [
        "1. Generate a 3 x 3 matrix using random module."
      ]
    },
    {
      "cell_type": "code",
      "metadata": {
        "id": "GGRQSYyNJW9t",
        "outputId": "230dd5f1-4c54-4fed-a10a-eacafb70f2f2",
        "colab": {
          "base_uri": "https://localhost:8080/"
        }
      },
      "source": [
        "#please provide your answer below this line.\n",
        "import numpy as np\n",
        "array = np.random.randint(9,size = (3,3))\n",
        "print(array)\n"
      ],
      "execution_count": 5,
      "outputs": [
        {
          "output_type": "stream",
          "text": [
            "[[3 0 6]\n",
            " [7 5 4]\n",
            " [7 1 5]]\n"
          ],
          "name": "stdout"
        }
      ]
    },
    {
      "cell_type": "markdown",
      "metadata": {
        "id": "4OB9KFX6JfYA"
      },
      "source": [
        "2. Generate two 4 x 4 matrix using numpy and \n",
        "\n",
        " a) Reshape it to 2 x 8matrix and vertically stack it.\n",
        "\n",
        " b) Reshape it to 2 x 8 matrix and horizontally stack it."
      ]
    },
    {
      "cell_type": "code",
      "metadata": {
        "id": "VoIqYeNWJ4H_",
        "outputId": "c69efe9a-f108-41cc-a939-a7a518351ad9",
        "colab": {
          "base_uri": "https://localhost:8080/"
        }
      },
      "source": [
        "#please provide your answer below this line.\n",
        "import numpy as np\n",
        "a = np.full((4,4),17)\n",
        "p = np.full((4,4),34)\n",
        "print('A = ',a)\n",
        "print('P = ',p)\n",
        "\n",
        "\n"
      ],
      "execution_count": 74,
      "outputs": [
        {
          "output_type": "stream",
          "text": [
            "A =  [[17 17 17 17]\n",
            " [17 17 17 17]\n",
            " [17 17 17 17]\n",
            " [17 17 17 17]]\n",
            "P =  [[34 34 34 34]\n",
            " [34 34 34 34]\n",
            " [34 34 34 34]\n",
            " [34 34 34 34]]\n"
          ],
          "name": "stdout"
        }
      ]
    },
    {
      "cell_type": "code",
      "metadata": {
        "id": "luPUPUjfyt8b",
        "outputId": "8fa752b7-33b3-421f-d960-5113bebd4741",
        "colab": {
          "base_uri": "https://localhost:8080/"
        }
      },
      "source": [
        "b = a.reshape(2,8)\n",
        "print(b)"
      ],
      "execution_count": 86,
      "outputs": [
        {
          "output_type": "stream",
          "text": [
            "[[17 17 17 17 17 17 17 17]\n",
            " [17 17 17 17 17 17 17 17]]\n"
          ],
          "name": "stdout"
        }
      ]
    },
    {
      "cell_type": "code",
      "metadata": {
        "id": "96P4aDAPy4CP",
        "outputId": "974fb3bc-14db-4a49-f25f-86e53927281f",
        "colab": {
          "base_uri": "https://localhost:8080/"
        }
      },
      "source": [
        "q = p.reshape(2,8)\n",
        "print(q)\n"
      ],
      "execution_count": 87,
      "outputs": [
        {
          "output_type": "stream",
          "text": [
            "[[34 34 34 34 34 34 34 34]\n",
            " [34 34 34 34 34 34 34 34]]\n"
          ],
          "name": "stdout"
        }
      ]
    },
    {
      "cell_type": "code",
      "metadata": {
        "id": "JcMrvuomy_er",
        "outputId": "fdac7811-8453-4757-cba0-382670a1f5c4",
        "colab": {
          "base_uri": "https://localhost:8080/"
        }
      },
      "source": [
        "np.vstack((b,q))"
      ],
      "execution_count": 88,
      "outputs": [
        {
          "output_type": "execute_result",
          "data": {
            "text/plain": [
              "array([[17, 17, 17, 17, 17, 17, 17, 17],\n",
              "       [17, 17, 17, 17, 17, 17, 17, 17],\n",
              "       [34, 34, 34, 34, 34, 34, 34, 34],\n",
              "       [34, 34, 34, 34, 34, 34, 34, 34]])"
            ]
          },
          "metadata": {
            "tags": []
          },
          "execution_count": 88
        }
      ]
    },
    {
      "cell_type": "code",
      "metadata": {
        "id": "ZYpnd3H50Y30",
        "outputId": "3950ba6e-8233-4cdd-86ec-810e255f2807",
        "colab": {
          "base_uri": "https://localhost:8080/"
        }
      },
      "source": [
        "np.hstack((b,q))"
      ],
      "execution_count": 89,
      "outputs": [
        {
          "output_type": "execute_result",
          "data": {
            "text/plain": [
              "array([[17, 17, 17, 17, 17, 17, 17, 17, 34, 34, 34, 34, 34, 34, 34, 34],\n",
              "       [17, 17, 17, 17, 17, 17, 17, 17, 34, 34, 34, 34, 34, 34, 34, 34]])"
            ]
          },
          "metadata": {
            "tags": []
          },
          "execution_count": 89
        }
      ]
    }
  ]
}