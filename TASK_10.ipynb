{
  "nbformat": 4,
  "nbformat_minor": 0,
  "metadata": {
    "colab": {
      "name": "TASK 10.ipynb",
      "provenance": [],
      "include_colab_link": true
    },
    "kernelspec": {
      "name": "python3",
      "display_name": "Python 3"
    },
    "language_info": {
      "name": "python"
    }
  },
  "cells": [
    {
      "cell_type": "markdown",
      "metadata": {
        "id": "view-in-github",
        "colab_type": "text"
      },
      "source": [
        "<a href=\"https://colab.research.google.com/github/Blecyrajan/Welcome-to-user/blob/main/TASK_10.ipynb\" target=\"_parent\"><img src=\"https://colab.research.google.com/assets/colab-badge.svg\" alt=\"Open In Colab\"/></a>"
      ]
    },
    {
      "cell_type": "markdown",
      "metadata": {
        "id": "VHKxwUewxOi2"
      },
      "source": [
        "1. Generate two  3 x 3 matrix and find it's dot product and take the transpose of the answer."
      ]
    },
    {
      "cell_type": "code",
      "metadata": {
        "id": "RdyKd1CAxZtR",
        "colab": {
          "base_uri": "https://localhost:8080/"
        },
        "outputId": "0fd23c61-4589-4692-acd6-5ddbae1392f9"
      },
      "source": [
        "#please provide your answer below this line.\n",
        "import numpy as np\n",
        "x = np.arange(1,10).reshape(3,3)\n",
        "print(\"x =\",x)\n",
        "y = np.arange(10,19).reshape(3,3)\n",
        "print(\"y =\",y)\n",
        "print(\"Dot product =\",np.dot(x,y))\n",
        "Dotproduct = np.dot(x,y)\n",
        "print(\"Transpose =\",np.transpose(Dotproduct))"
      ],
      "execution_count": 19,
      "outputs": [
        {
          "output_type": "stream",
          "name": "stdout",
          "text": [
            "x = [[1 2 3]\n",
            " [4 5 6]\n",
            " [7 8 9]]\n",
            "y = [[10 11 12]\n",
            " [13 14 15]\n",
            " [16 17 18]]\n",
            "Dot product = [[ 84  90  96]\n",
            " [201 216 231]\n",
            " [318 342 366]]\n",
            "Transpose = [[ 84 201 318]\n",
            " [ 90 216 342]\n",
            " [ 96 231 366]]\n"
          ]
        }
      ]
    },
    {
      "cell_type": "markdown",
      "metadata": {
        "id": "9c9ZwiBxxf4t"
      },
      "source": [
        "2. Create a 3x3 matrix with elements [55,25,15], [30,44,2], [11,45,77] . Now find the determinant of the given matrix."
      ]
    },
    {
      "cell_type": "code",
      "metadata": {
        "id": "Anmr3C9KyNyy",
        "colab": {
          "base_uri": "https://localhost:8080/"
        },
        "outputId": "527ac645-e210-4f1a-ba4b-a51391f2e80d"
      },
      "source": [
        "#please provide your answer below this line.\n",
        "import numpy as np\n",
        "A = np.array([[55,25,15],[30,44,2],[11,45,77]])\n",
        "print(\"Matrix A =\\n\",A)\n",
        "det = np.linalg.det(A)\n",
        "print(\"Determinant of A =\",int(det))\n"
      ],
      "execution_count": 6,
      "outputs": [
        {
          "output_type": "stream",
          "name": "stdout",
          "text": [
            "Matrix A =\n",
            " [[55 25 15]\n",
            " [30 44  2]\n",
            " [11 45 77]]\n",
            "Determinant of A = 137180\n"
          ]
        }
      ]
    }
  ]
}